import streamlit as st
from google.oauth2 import service_account
from google.cloud import storage 
import os
from os import listdir
from os.path import isfile, join
from pathlib import Path
from PIL import Image, ImageOps
bucketName=('survey-appl-dev-public')
# Create API client.
credentials = service_account.Credentials.from_service_account_info(
    st.secrets["gcp_service_account"]
)
client = storage.Client(credentials=credentials)

#create a bucket object to get bucket details 
bucket = client.get_bucket(bucketName)
file = st.file_uploader("Upload An file")
def main():
  if file is not None:
    file_details = {"FileName":file.name,"FileType":file.type}
    st.write(file_details)
    #img = load_image(image_file)
    #st.image(img, caption='Sunrise by the mountains')
    with open(os.path.join("tempDir",file.name),"wb") as f: 
      f.write(file.getbuffer())         
      st.success("Saved File")
      object_name_in_gcs_bucket = bucket.blob(".",file.name)
   object_name_in_gcs_bucket.upload_from_filename("tempDir",file.name)
if __name__ == "__main__":
    main()
{
 "cells": [
  {
   "cell_type": "code",
   "execution_count": null,
   "metadata": {},
   "outputs": [],
   "source": [
    "import pandas as pd\n",
    "from sklearn.model_selection import train_test_split\n",
    "from sklearn.feature_extraction.text import CountVectorizer\n",
    "from sklearn.naive_bayes import MultinomialNB\n",
    "from sklearn.pipeline import make_pipeline\n",
    "from sklearn import metrics\n",
    "\n",
    "url = \"https://archive.ics.uci.edu/ml/machine-learning-databases/00228/smsspamcollection.zip\"\n",
    "df = pd.read_csv(url, compression=\"zip\", sep=\"\\t\", names=[\"label\", \"message\"])\n",
    "\n",
    "# Split the data into training and testing sets\n",
    "X_train, X_test, y_train, y_test = train_test_split(df[\"message\"], df[\"label\"], test_size=0.2, random_state=42)\n",
    "\n",
    "# Build a pipeline that combines a text feature extractor with a Naive Bayes classifier\n",
    "model = make_pipeline(CountVectorizer(), MultinomialNB())\n",
    "\n",
    "# Train the model\n",
    "model.fit(X_train, y_train)\n",
    "\n",
    "# Predictions\n",
    "y_pred = model.predict(X_test)\n",
    "\n",
    "# Evaluate the model\n",
    "print(\"Accuracy:\", metrics.accuracy_score(y_test, y_pred))\n",
    "print(\"Confusion Matrix:\\n\", metrics.confusion_matrix(y_test, y_pred))\n",
    "\n"
   ]
  },
  {
   "cell_type": "code",
   "execution_count": null,
   "metadata": {},
   "outputs": [],
   "source": []
  }
 ],
 "metadata": {
  "language_info": {
   "name": "python"
  }
 },
 "nbformat": 4,
 "nbformat_minor": 2
}
